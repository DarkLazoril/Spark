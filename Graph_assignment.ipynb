{
 "cells": [
  {
   "cell_type": "markdown",
   "id": "892d74a2",
   "metadata": {
    "id": "ff3627ae"
   },
   "source": [
    "This notebook was created by :\n",
    "**ANOUAR** **ZAHRAN** /\n",
    "**SAAD** **BELAOUAD**/\n",
    "**ADNAN** **ELMOUTTAKI**"
   ]
  },
  {
   "cell_type": "markdown",
   "id": "f29bde2c",
   "metadata": {
    "id": "c42f6726"
   },
   "source": [
    "### Spark session"
   ]
  },
  {
   "cell_type": "code",
   "execution_count": 1,
   "id": "ebd94c6a",
   "metadata": {
    "id": "vXxFuCd11Sst"
   },
   "outputs": [],
   "source": [
    "#Import libraries\n",
    "from pyspark.sql import SparkSession\n",
    "from pyspark.sql.functions import *\n",
    "from pyspark.sql import *"
   ]
  },
  {
   "cell_type": "code",
   "execution_count": 2,
   "id": "1b2cf113",
   "metadata": {
    "id": "eab7a715",
    "outputId": "011c145b-846d-4666-b471-4afc1a21e3a8"
   },
   "outputs": [
    {
     "name": "stderr",
     "output_type": "stream",
     "text": [
      "23/11/27 16:42:10 WARN NativeCodeLoader: Unable to load native-hadoop library for your platform... using builtin-java classes where applicable\n",
      "Using Spark's default log4j profile: org/apache/spark/log4j-defaults.properties\n",
      "Setting default log level to \"WARN\".\n",
      "To adjust logging level use sc.setLogLevel(newLevel). For SparkR, use setLogLevel(newLevel).\n",
      "                                                                                \r"
     ]
    }
   ],
   "source": [
    "# Create a SparkSession\n",
    "spark = SparkSession.builder.appName(\"FlightAnalysis\").getOrCreate()\n",
    "#Upload data\n",
    "df_2009 = spark.read.csv(\"2009.csv\", header=True, inferSchema=True)"
   ]
  },
  {
   "cell_type": "markdown",
   "id": "9c58376f",
   "metadata": {
    "id": "947976f9"
   },
   "source": [
    "##  Pre-Preccesing   "
   ]
  },
  {
   "cell_type": "code",
   "execution_count": 3,
   "id": "5add99ed",
   "metadata": {
    "id": "89ce8653",
    "outputId": "69fc4e01-1047-4657-9387-87873a3b5cdd"
   },
   "outputs": [
    {
     "name": "stdout",
     "output_type": "stream",
     "text": [
      "root\n",
      " |-- FL_DATE: string (nullable = true)\n",
      " |-- OP_CARRIER: string (nullable = true)\n",
      " |-- OP_CARRIER_FL_NUM: integer (nullable = true)\n",
      " |-- ORIGIN: string (nullable = true)\n",
      " |-- DEST: string (nullable = true)\n",
      " |-- CRS_DEP_TIME: integer (nullable = true)\n",
      " |-- DEP_TIME: double (nullable = true)\n",
      " |-- DEP_DELAY: double (nullable = true)\n",
      " |-- TAXI_OUT: double (nullable = true)\n",
      " |-- WHEELS_OFF: double (nullable = true)\n",
      " |-- WHEELS_ON: double (nullable = true)\n",
      " |-- TAXI_IN: double (nullable = true)\n",
      " |-- CRS_ARR_TIME: integer (nullable = true)\n",
      " |-- ARR_TIME: double (nullable = true)\n",
      " |-- ARR_DELAY: double (nullable = true)\n",
      " |-- CANCELLED: double (nullable = true)\n",
      " |-- CANCELLATION_CODE: string (nullable = true)\n",
      " |-- DIVERTED: double (nullable = true)\n",
      " |-- CRS_ELAPSED_TIME: double (nullable = true)\n",
      " |-- ACTUAL_ELAPSED_TIME: double (nullable = true)\n",
      " |-- AIR_TIME: double (nullable = true)\n",
      " |-- DISTANCE: double (nullable = true)\n",
      " |-- CARRIER_DELAY: double (nullable = true)\n",
      " |-- WEATHER_DELAY: double (nullable = true)\n",
      " |-- NAS_DELAY: double (nullable = true)\n",
      " |-- SECURITY_DELAY: double (nullable = true)\n",
      " |-- LATE_AIRCRAFT_DELAY: double (nullable = true)\n",
      " |-- Unnamed: 27: string (nullable = true)\n",
      "\n"
     ]
    }
   ],
   "source": [
    "df_2009.printSchema()"
   ]
  },
  {
   "cell_type": "code",
   "execution_count": 4,
   "id": "d614bb15",
   "metadata": {
    "id": "568206ef"
   },
   "outputs": [],
   "source": [
    "# Check for missing values in df_2009\n",
    "missing_2009 = df_2009.select([sum(col(c).isNull().cast(\"int\")).alias(c) for c in df_2009.columns])"
   ]
  },
  {
   "cell_type": "code",
   "execution_count": 5,
   "id": "161cb8bd",
   "metadata": {
    "id": "1247873b",
    "outputId": "8ef38949-0e58-4062-abf7-5b40be71b02c"
   },
   "outputs": [
    {
     "name": "stderr",
     "output_type": "stream",
     "text": [
      "23/11/27 16:42:34 WARN package: Truncated the string representation of a plan since it was too large. This behavior can be adjusted by setting 'spark.sql.debug.maxToStringFields'.\n",
      "[Stage 2:=============================>                             (4 + 4) / 8]\r"
     ]
    },
    {
     "name": "stdout",
     "output_type": "stream",
     "text": [
      "+-------+----------+-----------------+------+----+------------+--------+---------+--------+----------+---------+-------+------------+--------+---------+---------+-----------------+--------+----------------+-------------------+--------+--------+-------------+-------------+---------+--------------+-------------------+-----------+\n",
      "|FL_DATE|OP_CARRIER|OP_CARRIER_FL_NUM|ORIGIN|DEST|CRS_DEP_TIME|DEP_TIME|DEP_DELAY|TAXI_OUT|WHEELS_OFF|WHEELS_ON|TAXI_IN|CRS_ARR_TIME|ARR_TIME|ARR_DELAY|CANCELLED|CANCELLATION_CODE|DIVERTED|CRS_ELAPSED_TIME|ACTUAL_ELAPSED_TIME|AIR_TIME|DISTANCE|CARRIER_DELAY|WEATHER_DELAY|NAS_DELAY|SECURITY_DELAY|LATE_AIRCRAFT_DELAY|Unnamed: 27|\n",
      "+-------+----------+-----------------+------+----+------------+--------+---------+--------+----------+---------+-------+------------+--------+---------+---------+-----------------+--------+----------------+-------------------+--------+--------+-------------+-------------+---------+--------------+-------------------+-----------+\n",
      "|      0|         0|                0|     0|   0|           0|   82867|    82867|   85787|     85787|    89322|  89321|           0|   89322|   102361|        0|          6342300|       0|               0|             102362|  102361|       0|      5258837|      5258837|  5258837|       5258837|            5258837|    6429338|\n",
      "+-------+----------+-----------------+------+----+------------+--------+---------+--------+----------+---------+-------+------------+--------+---------+---------+-----------------+--------+----------------+-------------------+--------+--------+-------------+-------------+---------+--------------+-------------------+-----------+\n",
      "\n"
     ]
    },
    {
     "name": "stderr",
     "output_type": "stream",
     "text": [
      "                                                                                \r"
     ]
    }
   ],
   "source": [
    "missing_2009.show()"
   ]
  },
  {
   "cell_type": "code",
   "execution_count": 9,
   "id": "9b228fe1",
   "metadata": {
    "id": "be5a86dd",
    "outputId": "00d725f1-7994-4086-a173-ed435a00c8a9"
   },
   "outputs": [
    {
     "name": "stderr",
     "output_type": "stream",
     "text": [
      "                                                                                \r"
     ]
    },
    {
     "name": "stdout",
     "output_type": "stream",
     "text": [
      "+----------+----------+-----------------+------+----+------------+--------+---------+--------+----------+---------+-------+------------+--------+---------+---------+--------+----------------+-------------------+--------+--------+-------------+-------------+---------+--------------+-------------------+\n",
      "|   FL_DATE|OP_CARRIER|OP_CARRIER_FL_NUM|ORIGIN|DEST|CRS_DEP_TIME|DEP_TIME|DEP_DELAY|TAXI_OUT|WHEELS_OFF|WHEELS_ON|TAXI_IN|CRS_ARR_TIME|ARR_TIME|ARR_DELAY|CANCELLED|DIVERTED|CRS_ELAPSED_TIME|ACTUAL_ELAPSED_TIME|AIR_TIME|DISTANCE|CARRIER_DELAY|WEATHER_DELAY|NAS_DELAY|SECURITY_DELAY|LATE_AIRCRAFT_DELAY|\n",
      "+----------+----------+-----------------+------+----+------------+--------+---------+--------+----------+---------+-------+------------+--------+---------+---------+--------+----------------+-------------------+--------+--------+-------------+-------------+---------+--------------+-------------------+\n",
      "|2009-01-01|        XE|             1204|   DCA| EWR|        1100|  1058.0|     -2.0|    18.0|    1116.0|   1158.0|    8.0|        1202|  1206.0|      4.0|      0.0|     0.0|            62.0|               68.0|    42.0|   199.0|         null|         null|     null|          null|               null|\n",
      "|2009-01-01|        XE|             1206|   EWR| IAD|        1510|  1509.0|     -1.0|    28.0|    1537.0|   1620.0|    4.0|        1632|  1624.0|     -8.0|      0.0|     0.0|            82.0|               75.0|    43.0|   213.0|         null|         null|     null|          null|               null|\n",
      "|2009-01-01|        XE|             1207|   EWR| DCA|        1100|  1059.0|     -1.0|    20.0|    1119.0|   1155.0|    6.0|        1210|  1201.0|     -9.0|      0.0|     0.0|            70.0|               62.0|    36.0|   199.0|         null|         null|     null|          null|               null|\n",
      "|2009-01-01|        XE|             1208|   DCA| EWR|        1240|  1249.0|      9.0|    10.0|    1259.0|   1336.0|    9.0|        1357|  1345.0|    -12.0|      0.0|     0.0|            77.0|               56.0|    37.0|   199.0|         null|         null|     null|          null|               null|\n",
      "|2009-01-01|        XE|             1209|   IAD| EWR|        1715|  1705.0|    -10.0|    24.0|    1729.0|   1809.0|   13.0|        1900|  1822.0|    -38.0|      0.0|     0.0|           105.0|               77.0|    40.0|   213.0|         null|         null|     null|          null|               null|\n",
      "|2009-01-01|        XE|             1212|   ATL| EWR|        1915|  1913.0|     -2.0|    19.0|    1932.0|   2108.0|   15.0|        2142|  2123.0|    -19.0|      0.0|     0.0|           147.0|              130.0|    96.0|   745.0|         null|         null|     null|          null|               null|\n",
      "|2009-01-01|        XE|             1212|   CLE| ATL|        1645|  1637.0|     -8.0|    12.0|    1649.0|   1820.0|    5.0|        1842|  1825.0|    -17.0|      0.0|     0.0|           117.0|              108.0|    91.0|   554.0|         null|         null|     null|          null|               null|\n",
      "|2009-01-01|        XE|             1214|   DCA| EWR|        1915|  1908.0|     -7.0|     9.0|    1917.0|   1953.0|   34.0|        2035|  2027.0|     -8.0|      0.0|     0.0|            80.0|               79.0|    36.0|   199.0|         null|         null|     null|          null|               null|\n",
      "|2009-01-01|        XE|             1215|   EWR| DCA|        1715|  1710.0|     -5.0|    28.0|    1738.0|   1819.0|    4.0|        1838|  1823.0|    -15.0|      0.0|     0.0|            83.0|               73.0|    41.0|   199.0|         null|         null|     null|          null|               null|\n",
      "|2009-01-01|        XE|             1217|   EWR| DCA|        1300|  1255.0|     -5.0|    15.0|    1310.0|   1349.0|    7.0|        1408|  1356.0|    -12.0|      0.0|     0.0|            68.0|               61.0|    39.0|   199.0|         null|         null|     null|          null|               null|\n",
      "|2009-01-01|        XE|             1218|   DCA| EWR|        1500|  1457.0|     -3.0|    14.0|    1511.0|   1552.0|    7.0|        1620|  1559.0|    -21.0|      0.0|     0.0|            80.0|               62.0|    41.0|   199.0|         null|         null|     null|          null|               null|\n",
      "|2009-01-01|        XE|             1219|   EWR| DCA|        2135|  2131.0|     -4.0|    21.0|    2152.0|   2232.0|    3.0|        2252|  2235.0|    -17.0|      0.0|     0.0|            77.0|               64.0|    40.0|   199.0|         null|         null|     null|          null|               null|\n",
      "|2009-01-01|        XE|             1220|   CLE| DCA|        1905|  1855.0|    -10.0|    10.0|    1905.0|   1956.0|    5.0|        2025|  2001.0|    -24.0|      0.0|     0.0|            80.0|               66.0|    51.0|   310.0|         null|         null|     null|          null|               null|\n",
      "|2009-01-01|        XE|             1220|   DCA| EWR|        2100|  2049.0|    -11.0|    10.0|    2059.0|   2133.0|   10.0|        2217|  2143.0|    -34.0|      0.0|     0.0|            77.0|               54.0|    34.0|   199.0|         null|         null|     null|          null|               null|\n",
      "|2009-01-01|        XE|             1232|   ORD| EWR|         905|   900.0|     -5.0|    16.0|     916.0|   1144.0|    6.0|        1212|  1150.0|    -22.0|      0.0|     0.0|           127.0|              110.0|    88.0|   719.0|         null|         null|     null|          null|               null|\n",
      "|2009-01-01|        XE|             1233|   EWR| ORD|        1000|  1035.0|     35.0|    14.0|    1049.0|   1156.0|   10.0|        1139|  1206.0|     27.0|      0.0|     0.0|           159.0|              151.0|   127.0|   719.0|          0.0|         27.0|      0.0|           0.0|                0.0|\n",
      "|2009-01-01|        XE|             1234|   ORD| EWR|        1230|  1234.0|      4.0|     8.0|    1242.0|   1511.0|   14.0|        1559|  1525.0|    -34.0|      0.0|     0.0|           149.0|              111.0|    89.0|   719.0|         null|         null|     null|          null|               null|\n",
      "|2009-01-01|        XE|             1235|   EWR| ORD|        1343|  1406.0|     23.0|    13.0|    1419.0|   1523.0|    7.0|        1523|  1530.0|      7.0|      0.0|     0.0|           160.0|              144.0|   124.0|   719.0|         null|         null|     null|          null|               null|\n",
      "|2009-01-01|        XE|             1236|   ORD| EWR|        1630|  1619.0|    -11.0|    19.0|    1638.0|   1906.0|   35.0|        2002|  1941.0|    -21.0|      0.0|     0.0|           152.0|              142.0|    88.0|   719.0|         null|         null|     null|          null|               null|\n",
      "|2009-01-01|        XE|             1237|   EWR| ORD|        1930|  1927.0|     -3.0|    16.0|    1943.0|   2049.0|    8.0|        2123|  2057.0|    -26.0|      0.0|     0.0|           173.0|              150.0|   126.0|   719.0|         null|         null|     null|          null|               null|\n",
      "+----------+----------+-----------------+------+----+------------+--------+---------+--------+----------+---------+-------+------------+--------+---------+---------+--------+----------------+-------------------+--------+--------+-------------+-------------+---------+--------------+-------------------+\n",
      "only showing top 20 rows\n",
      "\n"
     ]
    }
   ],
   "source": [
    "# Drop rows with missing values in specific columns\n",
    "columns_to_drop_na = [\"FL_DATE\", \"OP_CARRIER\", \"ORIGIN\", \"DEST\"]\n",
    "df = df_2009.dropna(subset=columns_to_drop_na)\n",
    "\n",
    "# Fill missing values in numerical columns with the mean\n",
    "numerical_columns = [\"DEP_TIME\", \"DEP_DELAY\", \"TAXI_OUT\", \"WHEELS_OFF\", \"WHEELS_ON\", \"TAXI_IN\", \"ARR_TIME\", \"ARR_DELAY\", \"CRS_ELAPSED_TIME\", \"ACTUAL_ELAPSED_TIME\", \"AIR_TIME\", \"DISTANCE\", \"CARRIER_DELAY\", \"WEATHER_DELAY\", \"NAS_DELAY\", \"SECURITY_DELAY\", \"LATE_AIRCRAFT_DELAY\"]\n",
    "for column in numerical_columns:\n",
    "    df = df_2009.withColumn(column, col(column).cast(\"double\"))\n",
    "    mean_value = df_2009.select(mean(column)).collect()[0][0]\n",
    "    df = df_2009.fillna(mean_value, subset=[column])\n",
    "\n",
    "# Drop unnecessary columns\n",
    "columns_to_drop = [\"CANCELLATION_CODE\", \"Unnamed: 27\"]\n",
    "df = df_2009.drop(*columns_to_drop)\n",
    "\n",
    "# Show the cleaned dataset\n",
    "df.show()\n"
   ]
  },
  {
   "cell_type": "markdown",
   "id": "141326ba",
   "metadata": {
    "id": "d6a4c824"
   },
   "source": [
    "### Initialize Pangerank"
   ]
  },
  {
   "cell_type": "code",
   "execution_count": 10,
   "id": "165ce0fb",
   "metadata": {
    "id": "6213756f",
    "outputId": "54838054-0151-4054-97d1-d255387eca42"
   },
   "outputs": [
    {
     "name": "stderr",
     "output_type": "stream",
     "text": [
      "23/11/27 16:47:31 WARN RowBasedKeyValueBatch: Calling spill() on RowBasedKeyValueBatch. Will not spill but return 0.\n",
      "23/11/27 16:47:37 WARN RowBasedKeyValueBatch: Calling spill() on RowBasedKeyValueBatch. Will not spill but return 0.\n",
      "23/11/27 16:47:37 WARN RowBasedKeyValueBatch: Calling spill() on RowBasedKeyValueBatch. Will not spill but return 0.\n",
      "23/11/27 16:47:40 WARN RowBasedKeyValueBatch: Calling spill() on RowBasedKeyValueBatch. Will not spill but return 0.\n",
      "23/11/27 16:47:41 WARN RowBasedKeyValueBatch: Calling spill() on RowBasedKeyValueBatch. Will not spill but return 0.\n",
      "23/11/27 16:47:45 WARN RowBasedKeyValueBatch: Calling spill() on RowBasedKeyValueBatch. Will not spill but return 0.\n",
      "23/11/27 16:47:52 WARN RowBasedKeyValueBatch: Calling spill() on RowBasedKeyValueBatch. Will not spill but return 0.\n",
      "23/11/27 16:47:52 WARN RowBasedKeyValueBatch: Calling spill() on RowBasedKeyValueBatch. Will not spill but return 0.\n",
      "23/11/27 16:48:01 WARN RowBasedKeyValueBatch: Calling spill() on RowBasedKeyValueBatch. Will not spill but return 0.\n",
      "23/11/27 16:48:01 WARN RowBasedKeyValueBatch: Calling spill() on RowBasedKeyValueBatch. Will not spill but return 0.\n",
      "23/11/27 16:48:01 WARN RowBasedKeyValueBatch: Calling spill() on RowBasedKeyValueBatch. Will not spill but return 0.\n",
      "[Stage 65:================================================>     (180 + 8) / 200]\r"
     ]
    },
    {
     "name": "stdout",
     "output_type": "stream",
     "text": [
      "+---+--------------------+\n",
      "| id|            pagerank|\n",
      "+---+--------------------+\n",
      "|BGM| 2.17650497941544E50|\n",
      "|BGM| 2.17650497941544E50|\n",
      "|DLG|2.426314211886089...|\n",
      "|DLG|2.426314211886089...|\n",
      "|PSE|2.187343674343410...|\n",
      "|PSE|2.187343674343410...|\n",
      "|MSY|1.294118812363754E52|\n",
      "|MSY|1.294118812363754E52|\n",
      "|GEG|3.827381239015259E51|\n",
      "|GEG|3.827381239015259E51|\n",
      "|BUR|8.557133885779645E51|\n",
      "|BUR|8.557133885779645E51|\n",
      "|SNA|1.708250542979014...|\n",
      "|SNA|1.708250542979014...|\n",
      "|GRB|2.909089576856056E51|\n",
      "|GRB|2.909089576856056E51|\n",
      "|GTF|7.234583410535763E50|\n",
      "|GTF|7.234583410535763E50|\n",
      "|IDA|1.082789307310683...|\n",
      "|IDA|1.082789307310683...|\n",
      "+---+--------------------+\n",
      "only showing top 20 rows\n",
      "\n"
     ]
    },
    {
     "name": "stderr",
     "output_type": "stream",
     "text": [
      "                                                                                \r"
     ]
    }
   ],
   "source": [
    "# Create Vertices DataFrame\n",
    "vertices = df.selectExpr(\"ORIGIN as id\").distinct().union(df.selectExpr(\"DEST as id\").distinct())\n",
    "\n",
    "# Create Edges DataFrame\n",
    "edges = df.selectExpr(\"ORIGIN as src\", \"DEST as dst\", \"1 as weight\")\n",
    "\n",
    "# Initialize PageRank values\n",
    "vertices = vertices.withColumn(\"pagerank\", lit(1.0))\n",
    "\n",
    "# Begin iterations\n",
    "number_of_iterations = 10  # for example\n",
    "for iteration in range(number_of_iterations):\n",
    "    # Calculate contributions by joining vertices and edges on the source id\n",
    "    contributions = edges.join(vertices, edges.src == vertices.id) \\\n",
    "                         .selectExpr(\"dst\", \"weight * pagerank as contribution\")\n",
    "\n",
    "    # Sum contributions by destination id and update PageRank values\n",
    "    sums = contributions.groupBy(\"dst\").sum(\"contribution\").withColumnRenamed(\"sum(contribution)\", \"sum_contributions\")\n",
    "    vertices = vertices.join(sums, vertices.id == sums.dst, \"left_outer\") \\\n",
    "                       .selectExpr(\"id\", \"0.15 + 0.85 * coalesce(sum_contributions, 0) as pagerank\")\n",
    "\n",
    "# Final PageRank values are now stored in the vertices DataFrame\n",
    "vertices.show()\n",
    "\n"
   ]
  },
  {
   "cell_type": "markdown",
   "id": "0d9b07ad",
   "metadata": {
    "id": "763957a9"
   },
   "source": [
    "**Vertices:** Each airport is uniquely identified, often by its airport code as (JFK, LAX).\n",
    "\n",
    "**Edges:** each edge has a direction, going from an origin airport to a destination airport. so the edges are directed from the src (source) airport to the dst (destination) airport.each edge can have a uniform weight, often set to 1, indicating a connection exists between two airports."
   ]
  },
  {
   "cell_type": "code",
   "execution_count": null,
   "id": "b2dda3d1",
   "metadata": {
    "id": "87b5874a",
    "outputId": "9e6f7976-700f-4d5d-912d-d18749e304e1"
   },
   "outputs": [
    {
     "name": "stderr",
     "output_type": "stream",
     "text": [
      "                                                                                \r"
     ]
    },
    {
     "name": "stdout",
     "output_type": "stream",
     "text": [
      "Iteration 0: total difference = 0.0\n",
      "PageRank has converged at iteration 0\n"
     ]
    },
    {
     "name": "stderr",
     "output_type": "stream",
     "text": [
      "                                                                                \r"
     ]
    },
    {
     "name": "stdout",
     "output_type": "stream",
     "text": [
      "+---+--------+\n",
      "| id|pagerank|\n",
      "+---+--------+\n",
      "|ATL|  280.65|\n",
      "|ATL|  280.65|\n",
      "|ORD|  238.15|\n",
      "|ORD|  238.15|\n",
      "|DFW|  227.95|\n",
      "|DFW|  227.95|\n",
      "|DTW|  210.95|\n",
      "|DTW|  210.95|\n",
      "|DEN|  200.75|\n",
      "|DEN|  200.75|\n",
      "|MSP|  200.75|\n",
      "|MSP|  200.75|\n",
      "|IAH|  171.85|\n",
      "|IAH|  171.85|\n",
      "|SLC|  165.05|\n",
      "|SLC|  165.05|\n",
      "|CVG|  153.15|\n",
      "|CVG|  153.15|\n",
      "|MEM|  144.65|\n",
      "|MEM|  144.65|\n",
      "+---+--------+\n",
      "only showing top 20 rows\n",
      "\n"
     ]
    }
   ],
   "source": [
    "# Create Vertices DataFrame\n",
    "\n",
    "# Vertices represent the airports\n",
    "vertices = df.selectExpr(\"ORIGIN as id\").distinct().union(df.selectExpr(\"DEST as id\").distinct())\n",
    "\n",
    "# Create Edges DataFrame\n",
    "# Edges represent the flight routes, with a simple weight of 1 for each route\n",
    "edges = df.selectExpr(\"ORIGIN as src\", \"DEST as dst\").distinct()\n",
    "edges = edges.groupBy(\"src\", \"dst\").count().withColumnRenamed(\"count\", \"weight\")\n",
    "\n",
    "# Initialize PageRank values for each vertex\n",
    "vertices = vertices.withColumn(\"pagerank\", lit(1.0))\n",
    "\n",
    "# Define the number of iterations and the tolerance for convergence checking\n",
    "number_of_iterations = 10\n",
    "tolerance = 0.01\n",
    "\n",
    "# Begin PageRank iterations\n",
    "for iteration in range(number_of_iterations):\n",
    "    # Broadcast the vertices DataFrame to optimize joins\n",
    "    # Rename the 'pagerank' column for clarity before broadcasting\n",
    "    broadcast_vertices = broadcast(vertices.selectExpr(\"id as vertex_id\", \"pagerank as current_pagerank\"))\n",
    "\n",
    "    # Calculate contributions by joining vertices and edges on the source id\n",
    "    contributions = edges.join(broadcast_vertices, edges.src == broadcast_vertices.vertex_id) \\\n",
    "                         .selectExpr(\"dst\", \"weight * current_pagerank as contribution\")\n",
    "\n",
    "    # Sum contributions by destination id and update PageRank values\n",
    "    sums = contributions.groupBy(\"dst\").agg(sum_(\"contribution\").alias(\"sum_contributions\"))\n",
    "    new_vertices = vertices.join(sums, vertices.id == sums.dst, \"left_outer\") \\\n",
    "                           .selectExpr(\"id\", \"0.15 + 0.85 * coalesce(sum_contributions, 0) as pagerank\")\n",
    "\n",
    "    # Before the next iteration, rename the pagerank column in the original vertices DataFrame\n",
    "    vertices = new_vertices\n",
    "\n",
    "    # Check for convergence using the correct abs function from PySpark\n",
    "    test_for_convergence = vertices.alias(\"new\").join(vertices.alias(\"old\"), \"id\") \\\n",
    "                                           .selectExpr(\"id\", \"new.pagerank as new_pagerank\", \"old.pagerank as old_pagerank\") \\\n",
    "                                           .withColumn(\"rank_difference\", abs_(col(\"new_pagerank\") - col(\"old_pagerank\")))\n",
    "\n",
    "    # Calculate the total difference in PageRank values to check for convergence\n",
    "    norm = test_for_convergence.select(sum_(\"rank_difference\")).collect()[0][0]\n",
    "\n",
    "    # Print the norm for debugging\n",
    "    print(f\"Iteration {iteration}: total difference = {norm}\")\n",
    "\n",
    "    # Check for convergence\n",
    "    if norm < tolerance:\n",
    "        print(f\"PageRank has converged at iteration {iteration}\")\n",
    "        break\n",
    "\n",
    "# Show the PageRank values of each vertex (airport)\n",
    "vertices.orderBy(col(\"pagerank\").desc()).show()\n",
    "\n"
   ]
  },
  {
   "cell_type": "markdown",
   "id": "d5b77fe9",
   "metadata": {
    "id": "3c482d91"
   },
   "source": [
    "## Optimization of pagerank"
   ]
  },
  {
   "cell_type": "code",
   "execution_count": 13,
   "id": "8256ac8b",
   "metadata": {
    "id": "455eb507",
    "outputId": "1151e693-0361-4280-9a0b-695572e2b2ef"
   },
   "outputs": [
    {
     "name": "stderr",
     "output_type": "stream",
     "text": [
      "                                                                                \r"
     ]
    },
    {
     "name": "stdout",
     "output_type": "stream",
     "text": [
      "+---+--------------------+\n",
      "| id|            pagerank|\n",
      "+---+--------------------+\n",
      "|ATL|2.092917052897055...|\n",
      "|ATL|2.092917052897055...|\n",
      "|ORD|2.011651180818715...|\n",
      "|ORD|2.011651180818715...|\n",
      "|DFW|1.890149627395589...|\n",
      "|DFW|1.890149627395589...|\n",
      "|DTW|1.862823897950623E19|\n",
      "|DTW|1.862823897950623E19|\n",
      "|DEN|1.797879379301979E19|\n",
      "|DEN|1.797879379301979E19|\n",
      "|MSP|1.795869785531153...|\n",
      "|MSP|1.795869785531153...|\n",
      "|IAH|1.742029015893756...|\n",
      "|IAH|1.742029015893756...|\n",
      "|CVG|1.679865933396828...|\n",
      "|CVG|1.679865933396828...|\n",
      "|LAS|1.621333749234059E19|\n",
      "|LAS|1.621333749234059E19|\n",
      "|EWR|1.594604718316122...|\n",
      "|EWR|1.594604718316122...|\n",
      "+---+--------------------+\n",
      "only showing top 20 rows\n",
      "\n"
     ]
    }
   ],
   "source": [
    "from pyspark.sql.functions import col, lit, abs as abs_, sum as sum_, broadcast\n",
    "\n",
    "# Create and cache the Edges DataFrame\n",
    "edges = df.selectExpr(\"ORIGIN as src\", \"DEST as dst\").distinct()\n",
    "edges = edges.groupBy(\"src\", \"dst\").count().withColumnRenamed(\"count\", \"weight\")\n",
    "edges.cache()  # Cache the edges DataFrame\n",
    "\n",
    "# Create Vertices DataFrame\n",
    "vertices = df.selectExpr(\"ORIGIN as id\").distinct().union(df.selectExpr(\"DEST as id\").distinct())\n",
    "vertices = vertices.withColumn(\"pagerank\", lit(1.0))\n",
    "\n",
    "# PageRank parameters\n",
    "number_of_iterations = 10\n",
    "tolerance = 0.01\n",
    "\n",
    "# Begin PageRank iterations\n",
    "for iteration in range(number_of_iterations):\n",
    "    # Broadcast the vertices DataFrame\n",
    "    broadcast_vertices = broadcast(vertices)\n",
    "\n",
    "    # Calculate contributions\n",
    "    contributions = edges.join(broadcast_vertices, edges.src == broadcast_vertices.id) \\\n",
    "                         .selectExpr(\"dst\", \"weight * pagerank as contribution\")\n",
    "\n",
    "    # Sum contributions and update PageRank values\n",
    "    sums = contributions.groupBy(\"dst\").agg(sum_(\"contribution\").alias(\"sum_contributions\"))\n",
    "    new_vertices = vertices.join(sums, vertices.id == sums.dst, \"left_outer\") \\\n",
    "                           .selectExpr(\"id\", \"0.15 + 0.85 * coalesce(sum_contributions, 0) as pagerank\")\n",
    "\n",
    "    # Check for convergence\n",
    "    test_for_convergence = new_vertices.alias(\"new\").join(vertices.alias(\"old\"), \"id\") \\\n",
    "                                           .selectExpr(\"id\", \"new.pagerank as new_pagerank\", \"old.pagerank as old_pagerank\") \\\n",
    "                                           .withColumn(\"rank_difference\", abs_(col(\"new_pagerank\") - col(\"old_pagerank\")))\n",
    "\n",
    "    norm = test_for_convergence.select(sum_(\"rank_difference\")).collect()[0][0]\n",
    "\n",
    "    if norm < tolerance:\n",
    "        print(f\"PageRank converged at iteration {iteration}\")\n",
    "        vertices = new_vertices\n",
    "        break\n",
    "\n",
    "    vertices = new_vertices\n",
    "\n",
    "vertices.orderBy(col(\"pagerank\").desc()).show()\n",
    "\n",
    "# Stop the Spark session\n",
    "spark.stop()\n"
   ]
  },
  {
   "cell_type": "markdown",
   "id": "8f169290",
   "metadata": {
    "id": "5ec8089f"
   },
   "source": [
    "### Using a benchmarking to validate the pagerank"
   ]
  },
  {
   "cell_type": "code",
   "execution_count": 12,
   "id": "720a108b",
   "metadata": {
    "id": "de317480",
    "outputId": "0410c8c0-28f1-4b31-9efc-7ac6f39bb4eb"
   },
   "outputs": [
    {
     "name": "stderr",
     "output_type": "stream",
     "text": [
      "                                                                                \r"
     ]
    },
    {
     "name": "stdout",
     "output_type": "stream",
     "text": [
      "+-----+-------------------+\n",
      "|   id|           pagerank|\n",
      "+-----+-------------------+\n",
      "|Node1|               0.15|\n",
      "|Node4| 1.2069749999999997|\n",
      "|Node3| 0.6217499999999999|\n",
      "|Node3| 0.6217499999999999|\n",
      "|Node2|0.27749999999999997|\n",
      "|Node2|0.27749999999999997|\n",
      "+-----+-------------------+\n",
      "\n"
     ]
    }
   ],
   "source": [
    "from pyspark.sql.functions import col, lit, abs as abs_, sum as sum_, broadcast\n",
    "from pyspark.sql import Row\n",
    "\n",
    "\n",
    "def calculatePageRank(edges, num_iterations=10, tolerance=0.01):\n",
    "    # Initialize SparkSession inside the function\n",
    "    spark = SparkSession.builder.appName(\"PageRank\").getOrCreate()\n",
    "\n",
    "    # Create Vertices DataFrame\n",
    "    vertices = edges.selectExpr(\"src as id\").distinct().union(edges.selectExpr(\"dst as id\").distinct())\n",
    "    vertices = vertices.withColumn(\"pagerank\", lit(1.0))\n",
    "\n",
    "    # PageRank iterations\n",
    "    for iteration in range(num_iterations):\n",
    "        broadcast_vertices = broadcast(vertices.selectExpr(\"id as vertex_id\", \"pagerank as current_pagerank\"))\n",
    "        contributions = edges.join(broadcast_vertices, edges.src == broadcast_vertices.vertex_id) \\\n",
    "                             .selectExpr(\"dst\", \"weight * current_pagerank as contribution\")\n",
    "        sums = contributions.groupBy(\"dst\").agg(sum_(\"contribution\").alias(\"sum_contributions\"))\n",
    "        new_vertices = vertices.join(sums, vertices.id == sums.dst, \"left_outer\") \\\n",
    "                               .selectExpr(\"id\", \"0.15 + 0.85 * coalesce(sum_contributions, 0) as pagerank\")\n",
    "\n",
    "        # Check for convergence\n",
    "        test_for_convergence = new_vertices.alias(\"new\").join(vertices.alias(\"old\"), \"id\") \\\n",
    "                                               .selectExpr(\"id\", \"new.pagerank as new_pagerank\", \"old.pagerank as old_pagerank\") \\\n",
    "                                               .withColumn(\"rank_difference\", abs_(col(\"new_pagerank\") - col(\"old_pagerank\")))\n",
    "        norm = test_for_convergence.select(sum_(\"rank_difference\")).collect()[0][0]\n",
    "\n",
    "        if norm < tolerance:\n",
    "            vertices = new_vertices\n",
    "            break\n",
    "\n",
    "        vertices = new_vertices\n",
    "\n",
    "    return vertices\n",
    "\n",
    "\n",
    "\n",
    "# Create a simple graph\n",
    "edges = spark.createDataFrame([\n",
    "    Row(src='Node1', dst='Node2'),\n",
    "    Row(src='Node2', dst='Node3'),\n",
    "    Row(src='Node3', dst='Node4')\n",
    "]).withColumn(\"weight\", lit(1))\n",
    "\n",
    "# Run the PageRank algorithm\n",
    "pagerank_results = calculatePageRank(edges)\n",
    "\n",
    "# Show the results\n",
    "pagerank_results.show()\n",
    "\n",
    "\n",
    "\n"
   ]
  },
  {
   "cell_type": "code",
   "execution_count": 4,
   "id": "145ea69d",
   "metadata": {},
   "outputs": [
    {
     "name": "stdout",
     "output_type": "stream",
     "text": [
      "Collecting matplotlib\n",
      "  Obtaining dependency information for matplotlib from https://files.pythonhosted.org/packages/53/1f/653d60d2ec81a6095fa3e571cf2de57742bab8a51a5c01de26730ce3dc53/matplotlib-3.8.2-cp39-cp39-manylinux_2_17_x86_64.manylinux2014_x86_64.whl.metadata\n",
      "  Downloading matplotlib-3.8.2-cp39-cp39-manylinux_2_17_x86_64.manylinux2014_x86_64.whl.metadata (5.8 kB)\n",
      "Collecting contourpy>=1.0.1 (from matplotlib)\n",
      "  Obtaining dependency information for contourpy>=1.0.1 from https://files.pythonhosted.org/packages/a9/ba/d8fd1380876f1e9114157606302e3644c85f6d116aeba354c212ee13edc7/contourpy-1.2.0-cp39-cp39-manylinux_2_17_x86_64.manylinux2014_x86_64.whl.metadata\n",
      "  Downloading contourpy-1.2.0-cp39-cp39-manylinux_2_17_x86_64.manylinux2014_x86_64.whl.metadata (5.8 kB)\n",
      "Collecting cycler>=0.10 (from matplotlib)\n",
      "  Obtaining dependency information for cycler>=0.10 from https://files.pythonhosted.org/packages/e7/05/c19819d5e3d95294a6f5947fb9b9629efb316b96de511b418c53d245aae6/cycler-0.12.1-py3-none-any.whl.metadata\n",
      "  Downloading cycler-0.12.1-py3-none-any.whl.metadata (3.8 kB)\n",
      "Collecting fonttools>=4.22.0 (from matplotlib)\n",
      "  Obtaining dependency information for fonttools>=4.22.0 from https://files.pythonhosted.org/packages/ef/c6/385519b21fd3d34cd41040cd32f7fb81ed78e773adc6f95a3850703f9e19/fonttools-4.45.1-cp39-cp39-manylinux_2_17_x86_64.manylinux2014_x86_64.whl.metadata\n",
      "  Downloading fonttools-4.45.1-cp39-cp39-manylinux_2_17_x86_64.manylinux2014_x86_64.whl.metadata (155 kB)\n",
      "\u001b[2K     \u001b[90m━━━━━━━━━━━━━━━━━━━━━━━━━━━━━━━━━━━━━━\u001b[0m \u001b[32m155.2/155.2 kB\u001b[0m \u001b[31m30.6 kB/s\u001b[0m eta \u001b[36m0:00:00\u001b[0ma \u001b[36m0:00:01\u001b[0m\n",
      "\u001b[?25hCollecting kiwisolver>=1.3.1 (from matplotlib)\n",
      "  Obtaining dependency information for kiwisolver>=1.3.1 from https://files.pythonhosted.org/packages/c0/a8/841594f11d0b88d8aeb26991bc4dac38baa909dc58d0c4262a4f7893bcbf/kiwisolver-1.4.5-cp39-cp39-manylinux_2_12_x86_64.manylinux2010_x86_64.whl.metadata\n",
      "  Downloading kiwisolver-1.4.5-cp39-cp39-manylinux_2_12_x86_64.manylinux2010_x86_64.whl.metadata (6.4 kB)\n",
      "Requirement already satisfied: numpy<2,>=1.21 in /usr/local/lib/python3.9/dist-packages (from matplotlib) (1.26.2)\n",
      "Requirement already satisfied: packaging>=20.0 in /usr/local/lib/python3.9/dist-packages (from matplotlib) (23.1)\n",
      "Collecting pillow>=8 (from matplotlib)\n",
      "  Obtaining dependency information for pillow>=8 from https://files.pythonhosted.org/packages/5c/dc/acccca38a87272cb2eed372f112595439418dfb6119770b04dc06d3b78bd/Pillow-10.1.0-cp39-cp39-manylinux_2_28_x86_64.whl.metadata\n",
      "  Downloading Pillow-10.1.0-cp39-cp39-manylinux_2_28_x86_64.whl.metadata (9.5 kB)\n",
      "Collecting pyparsing>=2.3.1 (from matplotlib)\n",
      "  Obtaining dependency information for pyparsing>=2.3.1 from https://files.pythonhosted.org/packages/39/92/8486ede85fcc088f1b3dba4ce92dd29d126fd96b0008ea213167940a2475/pyparsing-3.1.1-py3-none-any.whl.metadata\n",
      "  Downloading pyparsing-3.1.1-py3-none-any.whl.metadata (5.1 kB)\n",
      "Requirement already satisfied: python-dateutil>=2.7 in /usr/local/lib/python3.9/dist-packages (from matplotlib) (2.8.2)\n",
      "Collecting importlib-resources>=3.2.0 (from matplotlib)\n",
      "  Obtaining dependency information for importlib-resources>=3.2.0 from https://files.pythonhosted.org/packages/93/e8/facde510585869b5ec694e8e0363ffe4eba067cb357a8398a55f6a1f8023/importlib_resources-6.1.1-py3-none-any.whl.metadata\n",
      "  Downloading importlib_resources-6.1.1-py3-none-any.whl.metadata (4.1 kB)\n",
      "Requirement already satisfied: zipp>=3.1.0 in /usr/local/lib/python3.9/dist-packages (from importlib-resources>=3.2.0->matplotlib) (3.17.0)\n",
      "Requirement already satisfied: six>=1.5 in /usr/local/lib/python3.9/dist-packages (from python-dateutil>=2.7->matplotlib) (1.16.0)\n",
      "Downloading matplotlib-3.8.2-cp39-cp39-manylinux_2_17_x86_64.manylinux2014_x86_64.whl (11.6 MB)\n",
      "\u001b[2K   \u001b[90m━━━━━━━━━━━━━━━━━━━━━━━━━━━━━━━━━━━━━━━━\u001b[0m \u001b[32m11.6/11.6 MB\u001b[0m \u001b[31m69.8 kB/s\u001b[0m eta \u001b[36m0:00:00\u001b[0m00:01\u001b[0m00:05\u001b[0m\n",
      "\u001b[?25hDownloading contourpy-1.2.0-cp39-cp39-manylinux_2_17_x86_64.manylinux2014_x86_64.whl (310 kB)\n",
      "\u001b[2K   \u001b[90m━━━━━━━━━━━━━━━━━━━━━━━━━━━━━━━━━━━━━━━\u001b[0m \u001b[32m311.0/311.0 kB\u001b[0m \u001b[31m137.4 kB/s\u001b[0m eta \u001b[36m0:00:00\u001b[0m00:01\u001b[0m00:01\u001b[0m\n",
      "\u001b[?25hDownloading cycler-0.12.1-py3-none-any.whl (8.3 kB)\n",
      "Downloading fonttools-4.45.1-cp39-cp39-manylinux_2_17_x86_64.manylinux2014_x86_64.whl (4.6 MB)\n",
      "\u001b[2K   \u001b[90m━━━━━━━━━━━━━━━━━━━━━━━━━━━━━━━━━━━━━━━━\u001b[0m \u001b[32m4.6/4.6 MB\u001b[0m \u001b[31m52.6 kB/s\u001b[0m eta \u001b[36m0:00:00\u001b[0m00:01\u001b[0m00:03\u001b[0mm\n",
      "\u001b[?25hDownloading importlib_resources-6.1.1-py3-none-any.whl (33 kB)\n",
      "Downloading kiwisolver-1.4.5-cp39-cp39-manylinux_2_12_x86_64.manylinux2010_x86_64.whl (1.6 MB)\n",
      "\u001b[2K   \u001b[90m━━━━━━━━━━━━━━━━━━━━━━━━━━━━━━━━━━━━━━━━\u001b[0m \u001b[32m1.6/1.6 MB\u001b[0m \u001b[31m43.1 kB/s\u001b[0m eta \u001b[36m0:00:00\u001b[0m00:01\u001b[0m00:01\u001b[0m\n",
      "\u001b[?25hDownloading Pillow-10.1.0-cp39-cp39-manylinux_2_28_x86_64.whl (3.6 MB)\n",
      "\u001b[2K   \u001b[90m━━━━━━━━━━━━━━━━━━━━━━━━━━━━━━━━━━━━━━━━\u001b[0m \u001b[32m3.6/3.6 MB\u001b[0m \u001b[31m89.8 kB/s\u001b[0m eta \u001b[36m0:00:00\u001b[0m00:01\u001b[0m00:02\u001b[0m\n",
      "\u001b[?25hDownloading pyparsing-3.1.1-py3-none-any.whl (103 kB)\n",
      "\u001b[2K   \u001b[90m━━━━━━━━━━━━━━━━━━━━━━━━━━━━━━━━━━━━━━━━\u001b[0m \u001b[32m103.1/103.1 kB\u001b[0m \u001b[31m53.2 kB/s\u001b[0m eta \u001b[36m0:00:00\u001b[0m \u001b[36m0:00:01\u001b[0m\n",
      "\u001b[?25hInstalling collected packages: pyparsing, pillow, kiwisolver, importlib-resources, fonttools, cycler, contourpy, matplotlib\n",
      "Successfully installed contourpy-1.2.0 cycler-0.12.1 fonttools-4.45.1 importlib-resources-6.1.1 kiwisolver-1.4.5 matplotlib-3.8.2 pillow-10.1.0 pyparsing-3.1.1\n",
      "\u001b[33mWARNING: Running pip as the 'root' user can result in broken permissions and conflicting behaviour with the system package manager. It is recommended to use a virtual environment instead: https://pip.pypa.io/warnings/venv\u001b[0m\u001b[33m\n",
      "\u001b[0m\n",
      "\u001b[1m[\u001b[0m\u001b[34;49mnotice\u001b[0m\u001b[1;39;49m]\u001b[0m\u001b[39;49m A new release of pip is available: \u001b[0m\u001b[31;49m23.2.1\u001b[0m\u001b[39;49m -> \u001b[0m\u001b[32;49m23.3.1\u001b[0m\n",
      "\u001b[1m[\u001b[0m\u001b[34;49mnotice\u001b[0m\u001b[1;39;49m]\u001b[0m\u001b[39;49m To update, run: \u001b[0m\u001b[32;49mpython3 -m pip install --upgrade pip\u001b[0m\n",
      "Note: you may need to restart the kernel to use updated packages.\n"
     ]
    }
   ],
   "source": [
    "\n",
    "pip install matplotlib"
   ]
  },
  {
   "cell_type": "markdown",
   "id": "85b0fcd2",
   "metadata": {},
   "source": [
    "# Visualization "
   ]
  },
  {
   "cell_type": "code",
   "execution_count": 27,
   "id": "745f48ee",
   "metadata": {},
   "outputs": [
    {
     "data": {
      "image/png": "[encoded data removed]",
      "text/plain": [
       "<Figure size 1200x800 with 1 Axes>"
      ]
     },
     "metadata": {},
     "output_type": "display_data"
    }
   ],
   "source": [
    "import networkx as nx\n",
    "import matplotlib.pyplot as plt\n",
    "import pandas as pd\n",
    "\n",
    "def visualize_graph_with_pagerank(edges_df, pagerank_df):\n",
    "    # Create a directed graph\n",
    "    G = nx.DiGraph()\n",
    "\n",
    "    # Add edges from the DataFrame\n",
    "    for index, row in edges_df.iterrows():\n",
    "        G.add_edge(row['src'], row['dst'])\n",
    "\n",
    "    # Add PageRank values as node attributes\n",
    "    pagerank_dict = dict(zip(pagerank_df['id'], pagerank_df['pagerank']))\n",
    "    nx.set_node_attributes(G, pagerank_dict, 'pagerank')\n",
    "\n",
    "    # Draw the graph\n",
    "    plt.figure(figsize=(12, 8))\n",
    "    pos = nx.spring_layout(G)  # Positions for all nodes\n",
    "\n",
    "    # Draw nodes with sizes proportional to PageRank\n",
    "    node_sizes = [pagerank_dict.get(node, 0) * 3000 for node in G.nodes()]\n",
    "    nx.draw_networkx_nodes(G, pos, node_size=node_sizes, node_color='lightblue')\n",
    "\n",
    "    # Draw edges\n",
    "    nx.draw_networkx_edges(G, pos, edge_color='gray')\n",
    "\n",
    "    # Draw labels with PageRank\n",
    "    pagerank_labels = nx.get_node_attributes(G, 'pagerank')\n",
    "    node_labels = {node: f\"{node}\\nPR: {pagerank:.2f}\" for node, pagerank in pagerank_labels.items()}\n",
    "    nx.draw_networkx_labels(G, pos, labels=node_labels, font_color='red')\n",
    "\n",
    "    plt.title(\"Graph Visualization with PageRank\")\n",
    "    plt.axis('off')  # Turn off the axis\n",
    "    plt.show()\n",
    "\n",
    "\n",
    "edges_data = {\n",
    "    'src': ['A', 'A', 'B', 'C', 'D'],\n",
    "    'dst': ['B', 'C', 'C', 'D', 'A']\n",
    "}\n",
    "\n",
    "# Example PageRank data\n",
    "pagerank_data = {\n",
    "    'id': ['A', 'B', 'C', 'D'],\n",
    "    'pagerank': [0.2, 0.1, 0.3, 0.4]\n",
    "}\n",
    "\n",
    "# Convert to pandas DataFrame\n",
    "edges_df = pd.DataFrame(edges_data)\n",
    "pagerank_df = pd.DataFrame(pagerank_data)\n",
    "\n",
    "# Visualize the graph\n",
    "visualize_graph_with_pagerank(edges_df, pagerank_df)\n"
   ]
  },
  {
   "cell_type": "code",
   "execution_count": null,
   "id": "46538fd1",
   "metadata": {},
   "outputs": [],
   "source": []
  }
 ],
 "metadata": {
  "colab": {
   "provenance": []
  },
  "kernelspec": {
   "display_name": "Python 3 (ipykernel)",
   "language": "python",
   "name": "python3"
  },
  "language_info": {
   "codemirror_mode": {
    "name": "ipython",
    "version": 3
   },
   "file_extension": ".py",
   "mimetype": "text/x-python",
   "name": "python",
   "nbconvert_exporter": "python",
   "pygments_lexer": "ipython3",
   "version": "3.9.2"
  }
 },
 "nbformat": 4,
 "nbformat_minor": 5
}
